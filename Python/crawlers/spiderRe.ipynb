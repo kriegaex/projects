{
 "cells": [
  {
   "cell_type": "code",
   "execution_count": 1,
   "metadata": {},
   "outputs": [],
   "source": [
    "import re"
   ]
  },
  {
   "cell_type": "code",
   "execution_count": 3,
   "metadata": {},
   "outputs": [],
   "source": [
    "pattern = re.compile(r'\\d+')"
   ]
  },
  {
   "cell_type": "code",
   "execution_count": 15,
   "metadata": {},
   "outputs": [
    {
     "name": "stdout",
     "output_type": "stream",
     "text": [
      "<_sre.SRE_Match object; span=(9, 11), match='45'>\n"
     ]
    }
   ],
   "source": [
    "string = \"abc123def456\"\n",
    "p = pattern.match(string, 9, 11)\n",
    "print(p)"
   ]
  },
  {
   "cell_type": "code",
   "execution_count": 39,
   "metadata": {},
   "outputs": [
    {
     "name": "stdout",
     "output_type": "stream",
     "text": [
      "<_sre.SRE_Match object; span=(0, 11), match='hello world'>\n"
     ]
    }
   ],
   "source": [
    "pattern_match = re.compile(r'([a-z]+) ([a-z]+)', re.I) #re.I means both upper case and lower case work\n",
    "string1 = \"hello world hello python\"\n",
    "p1 = pattern_match.match(string1)\n",
    "print(p1)"
   ]
  },
  {
   "cell_type": "code",
   "execution_count": 38,
   "metadata": {},
   "outputs": [
    {
     "name": "stdout",
     "output_type": "stream",
     "text": [
      "group:  hello world\n",
      "group1:  world\n",
      "span:  (0, 5)\n",
      "('hello', 'world')\n"
     ]
    }
   ],
   "source": [
    "print(\"group: \", p1.group())\n",
    "print(\"group1: \", p1.group(2))\n",
    "print(\"span: \", p1.span(1))\n",
    "print(p1.groups()) # type: tuple"
   ]
  },
  {
   "cell_type": "code",
   "execution_count": 47,
   "metadata": {},
   "outputs": [
    {
     "data": {
      "text/plain": [
       "'12'"
      ]
     },
     "execution_count": 47,
     "metadata": {},
     "output_type": "execute_result"
    }
   ],
   "source": [
    "pattern_search = re.compile(r'\\d+')\n",
    "string_search = \"abc123def456\"\n",
    "p_search = pattern_search.search(string_search, 3, 5)\n",
    "p_search.group()"
   ]
  },
  {
   "cell_type": "code",
   "execution_count": 51,
   "metadata": {},
   "outputs": [
    {
     "data": {
      "text/plain": [
       "['123', '456']"
      ]
     },
     "execution_count": 51,
     "metadata": {},
     "output_type": "execute_result"
    }
   ],
   "source": [
    "pattern_findall = re.compile(r'\\d+')\n",
    "string_findall = \"abc123def456\"\n",
    "p_findall = pattern_findall.findall(string_findall)\n",
    "p_findall"
   ]
  },
  {
   "cell_type": "code",
   "execution_count": null,
   "metadata": {},
   "outputs": [],
   "source": []
  }
 ],
 "metadata": {
  "kernelspec": {
   "display_name": "Python 3",
   "language": "python",
   "name": "python3"
  },
  "language_info": {
   "codemirror_mode": {
    "name": "ipython",
    "version": 3
   },
   "file_extension": ".py",
   "mimetype": "text/x-python",
   "name": "python",
   "nbconvert_exporter": "python",
   "pygments_lexer": "ipython3",
   "version": "3.6.5"
  }
 },
 "nbformat": 4,
 "nbformat_minor": 2
}
